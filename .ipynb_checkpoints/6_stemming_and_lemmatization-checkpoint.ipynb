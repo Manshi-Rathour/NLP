{
 "cells": [
  {
   "cell_type": "markdown",
   "id": "975a97c4",
   "metadata": {},
   "source": [
    "# Stemming in NLTK"
   ]
  },
  {
   "cell_type": "code",
   "execution_count": 1,
   "id": "3f381c59",
   "metadata": {},
   "outputs": [],
   "source": [
    "from nltk.stem import PorterStemmer\n",
    "\n",
    "stemmer = PorterStemmer()"
   ]
  },
  {
   "cell_type": "code",
   "execution_count": 2,
   "id": "f6d7972c",
   "metadata": {},
   "outputs": [
    {
     "name": "stdout",
     "output_type": "stream",
     "text": [
      "eating  |  eat\n",
      "eats  |  eat\n",
      "eat  |  eat\n",
      "ate  |  ate\n",
      "adjustable  |  adjust\n",
      "rafting  |  raft\n",
      "ability  |  abil\n",
      "meeting  |  meet\n"
     ]
    }
   ],
   "source": [
    "words = [\"eating\", \"eats\", \"eat\", \"ate\", \"adjustable\", \"rafting\", \"ability\", \"meeting\"]\n",
    "\n",
    "for word in words:\n",
    "    print(word, \" | \", stemmer.stem(word))"
   ]
  },
  {
   "cell_type": "markdown",
   "id": "b01975c7",
   "metadata": {},
   "source": [
    "# Lemmatization in Spacy"
   ]
  },
  {
   "cell_type": "code",
   "execution_count": 3,
   "id": "a8fbb950",
   "metadata": {},
   "outputs": [],
   "source": [
    "import spacy"
   ]
  },
  {
   "cell_type": "code",
   "execution_count": 4,
   "id": "e69e17ac",
   "metadata": {},
   "outputs": [
    {
     "name": "stdout",
     "output_type": "stream",
     "text": [
      "eating  |  eat\n",
      "eats  |  eat\n",
      "eat  |  eat\n",
      "ate  |  eat\n",
      "adjustable  |  adjustable\n",
      "rafting  |  raft\n",
      "ability  |  ability\n",
      "meeting  |  meeting\n",
      "better  |  well\n"
     ]
    }
   ],
   "source": [
    "nlp = spacy.load(\"en_core_web_sm\")\n",
    "\n",
    "doc = nlp(\"Mando talked for 3 hours although talking isn't his thing\")\n",
    "doc = nlp(\"eating eats eat ate adjustable rafting ability meeting better\")\n",
    "\n",
    "for token in doc:\n",
    "    print(token, \" | \", token.lemma_)"
   ]
  },
  {
   "cell_type": "markdown",
   "id": "e8caf75f",
   "metadata": {},
   "source": [
    "## Customizing Lemmatizer"
   ]
  },
  {
   "cell_type": "code",
   "execution_count": 5,
   "id": "88638128",
   "metadata": {},
   "outputs": [
    {
     "data": {
      "text/plain": [
       "['tok2vec', 'tagger', 'parser', 'attribute_ruler', 'lemmatizer', 'ner']"
      ]
     },
     "execution_count": 5,
     "metadata": {},
     "output_type": "execute_result"
    }
   ],
   "source": [
    "nlp.pipe_names"
   ]
  },
  {
   "cell_type": "code",
   "execution_count": 6,
   "id": "0bb1d0a3",
   "metadata": {},
   "outputs": [
    {
     "name": "stdout",
     "output_type": "stream",
     "text": [
      "Bro  |  Brother\n",
      ",  |  ,\n",
      "you  |  you\n",
      "wanna  |  wanna\n",
      "go  |  go\n",
      "?  |  ?\n",
      "Brah  |  Brother\n",
      ",  |  ,\n",
      "do  |  do\n",
      "n't  |  not\n",
      "say  |  say\n",
      "no  |  no\n",
      "!  |  !\n",
      "I  |  I\n",
      "am  |  be\n",
      "exhausted  |  exhaust\n"
     ]
    }
   ],
   "source": [
    "ar = nlp.get_pipe('attribute_ruler')\n",
    "\n",
    "ar.add([[{'TEXT':'Bro'}], [{'TEXT':'Brah'}]], {'LEMMA':'Brother'})\n",
    "\n",
    "doc = nlp(\"Bro, you wanna go? Brah, don't say no! I am exhausted\")\n",
    "\n",
    "for token in doc:\n",
    "    print(token, \" | \", token.lemma_)"
   ]
  },
  {
   "cell_type": "code",
   "execution_count": 7,
   "id": "2613bf63",
   "metadata": {},
   "outputs": [
    {
     "data": {
      "text/plain": [
       "Brah"
      ]
     },
     "execution_count": 7,
     "metadata": {},
     "output_type": "execute_result"
    }
   ],
   "source": [
    "doc[6]"
   ]
  },
  {
   "cell_type": "code",
   "execution_count": 8,
   "id": "660beede",
   "metadata": {},
   "outputs": [
    {
     "data": {
      "text/plain": [
       "'Brother'"
      ]
     },
     "execution_count": 8,
     "metadata": {},
     "output_type": "execute_result"
    }
   ],
   "source": [
    "doc[6].lemma_"
   ]
  },
  {
   "cell_type": "markdown",
   "id": "0f0c06d1",
   "metadata": {},
   "source": [
    "## Exercise"
   ]
  },
  {
   "cell_type": "code",
   "execution_count": 9,
   "id": "e1ba5d68",
   "metadata": {},
   "outputs": [
    {
     "name": "stdout",
     "output_type": "stream",
     "text": [
      "running  |  run\n",
      "painting  |  paint\n",
      "walking  |  walk\n",
      "dressing  |  dress\n",
      "likely  |  like\n",
      "children  |  children\n",
      "whom  |  whom\n",
      "good  |  good\n",
      "ate  |  ate\n",
      "fishing  |  fish\n"
     ]
    }
   ],
   "source": [
    "#using stemming in nltk\n",
    "stemmer = PorterStemmer()\n",
    "\n",
    "lst_words = ['running', 'painting', 'walking', 'dressing', 'likely', 'children', 'whom', 'good', 'ate', 'fishing']\n",
    "\n",
    "for word in lst_words:\n",
    "    print(word, \" | \", stemmer.stem(word))"
   ]
  },
  {
   "cell_type": "code",
   "execution_count": 10,
   "id": "19635e68",
   "metadata": {},
   "outputs": [
    {
     "name": "stdout",
     "output_type": "stream",
     "text": [
      "running  |  run\n",
      "painting  |  paint\n",
      "walking  |  walk\n",
      "dressing  |  dress\n",
      "likely  |  likely\n",
      "children  |  child\n",
      "who  |  who\n",
      "good  |  good\n",
      "ate  |  eat\n",
      "fishing  |  fishing\n"
     ]
    }
   ],
   "source": [
    "#using lemmatization in spacy\n",
    "nlp = spacy.load(\"en_core_web_sm\")\n",
    "\n",
    "doc = nlp(\"running painting walking dressing likely children who good ate fishing\")\n",
    "\n",
    "for token in doc:\n",
    "    print(token, \" | \", token.lemma_)"
   ]
  },
  {
   "cell_type": "markdown",
   "id": "4ddd385d",
   "metadata": {},
   "source": [
    "# Exercise"
   ]
  },
  {
   "cell_type": "markdown",
   "id": "97b6d4e3",
   "metadata": {},
   "source": [
    "## Using Stemming in NLTK"
   ]
  },
  {
   "cell_type": "code",
   "execution_count": 11,
   "id": "8bb14488",
   "metadata": {},
   "outputs": [],
   "source": [
    "text = \"\"\"Latha is very multi talented girl.She is good at many skills like dancing, running, singing, playing.She also likes eating Pav Bhagi. she has a \n",
    "habit of fishing and swimming too.Besides all this, she is a wonderful at cooking too.\n",
    "\"\"\""
   ]
  },
  {
   "cell_type": "code",
   "execution_count": 12,
   "id": "d86623ba",
   "metadata": {},
   "outputs": [
    {
     "name": "stdout",
     "output_type": "stream",
     "text": [
      "['Latha', 'is', 'very', 'multi', 'talented', 'girl', '.', 'She', 'is', 'good', 'at', 'many', 'skills', 'like', 'dancing', ',', 'running', ',', 'singing', ',', 'playing', '.', 'She', 'also', 'likes', 'eating', 'Pav', 'Bhagi', '.', 'she', 'has', 'a', '\\n', 'habit', 'of', 'fishing', 'and', 'swimming', 'too', '.', 'Besides', 'all', 'this', ',', 'she', 'is', 'a', 'wonderful', 'at', 'cooking', 'too', '.', '\\n']\n"
     ]
    }
   ],
   "source": [
    "nlp = spacy.load(\"en_core_web_sm\")\n",
    "\n",
    "doc = nlp(text)\n",
    "# word tokenization\n",
    "words = []\n",
    "for token in doc:\n",
    "    words.append(token.text)\n",
    "    \n",
    "print(words)"
   ]
  },
  {
   "cell_type": "code",
   "execution_count": 13,
   "id": "8cd582ab",
   "metadata": {},
   "outputs": [
    {
     "data": {
      "text/plain": [
       "['latha',\n",
       " 'is',\n",
       " 'veri',\n",
       " 'multi',\n",
       " 'talent',\n",
       " 'girl',\n",
       " '.',\n",
       " 'she',\n",
       " 'is',\n",
       " 'good',\n",
       " 'at',\n",
       " 'mani',\n",
       " 'skill',\n",
       " 'like',\n",
       " 'danc',\n",
       " ',',\n",
       " 'run',\n",
       " ',',\n",
       " 'sing',\n",
       " ',',\n",
       " 'play',\n",
       " '.',\n",
       " 'she',\n",
       " 'also',\n",
       " 'like',\n",
       " 'eat',\n",
       " 'pav',\n",
       " 'bhagi',\n",
       " '.',\n",
       " 'she',\n",
       " 'ha',\n",
       " 'a',\n",
       " '\\n',\n",
       " 'habit',\n",
       " 'of',\n",
       " 'fish',\n",
       " 'and',\n",
       " 'swim',\n",
       " 'too',\n",
       " '.',\n",
       " 'besid',\n",
       " 'all',\n",
       " 'thi',\n",
       " ',',\n",
       " 'she',\n",
       " 'is',\n",
       " 'a',\n",
       " 'wonder',\n",
       " 'at',\n",
       " 'cook',\n",
       " 'too',\n",
       " '.',\n",
       " '\\n']"
      ]
     },
     "execution_count": 13,
     "metadata": {},
     "output_type": "execute_result"
    }
   ],
   "source": [
    "# converting words to their base word\n",
    "base_word = []\n",
    "for word in words:\n",
    "    base_word.append(stemmer.stem(word))\n",
    "    \n",
    "base_word"
   ]
  },
  {
   "cell_type": "code",
   "execution_count": 14,
   "id": "3789a0fb",
   "metadata": {},
   "outputs": [
    {
     "data": {
      "text/plain": [
       "'latha is veri multi talent girl . she is good at mani skill like danc , run , sing , play . she also like eat pav bhagi . she ha a \\n habit of fish and swim too . besid all thi , she is a wonder at cook too . \\n'"
      ]
     },
     "execution_count": 14,
     "metadata": {},
     "output_type": "execute_result"
    }
   ],
   "source": [
    "# joining the base word\n",
    "text = \" \".join(base_word)\n",
    "text"
   ]
  },
  {
   "cell_type": "markdown",
   "id": "f7061200",
   "metadata": {},
   "source": [
    "## Using lemmatisation in spacy"
   ]
  },
  {
   "cell_type": "code",
   "execution_count": 15,
   "id": "90d28e84",
   "metadata": {},
   "outputs": [],
   "source": [
    "text = \"\"\"Latha is very multi talented girl.She is good at many skills like dancing, running, singing, playing.She also likes eating Pav Bhagi. she has a \n",
    "habit of fishing and swimming too.Besides all this, she is a wonderful at cooking too.\n",
    "\"\"\""
   ]
  },
  {
   "cell_type": "code",
   "execution_count": 16,
   "id": "a69b204d",
   "metadata": {},
   "outputs": [
    {
     "data": {
      "text/plain": [
       "['Latha',\n",
       " 'be',\n",
       " 'very',\n",
       " 'multi',\n",
       " 'talented',\n",
       " 'girl',\n",
       " '.',\n",
       " 'she',\n",
       " 'be',\n",
       " 'good',\n",
       " 'at',\n",
       " 'many',\n",
       " 'skill',\n",
       " 'like',\n",
       " 'dancing',\n",
       " ',',\n",
       " 'running',\n",
       " ',',\n",
       " 'singing',\n",
       " ',',\n",
       " 'play',\n",
       " '.',\n",
       " 'she',\n",
       " 'also',\n",
       " 'like',\n",
       " 'eat',\n",
       " 'Pav',\n",
       " 'Bhagi',\n",
       " '.',\n",
       " 'she',\n",
       " 'have',\n",
       " 'a',\n",
       " '\\n',\n",
       " 'habit',\n",
       " 'of',\n",
       " 'fishing',\n",
       " 'and',\n",
       " 'swim',\n",
       " 'too',\n",
       " '.',\n",
       " 'besides',\n",
       " 'all',\n",
       " 'this',\n",
       " ',',\n",
       " 'she',\n",
       " 'be',\n",
       " 'a',\n",
       " 'wonderful',\n",
       " 'at',\n",
       " 'cook',\n",
       " 'too',\n",
       " '.',\n",
       " '\\n']"
      ]
     },
     "execution_count": 16,
     "metadata": {},
     "output_type": "execute_result"
    }
   ],
   "source": [
    "nlp = spacy.load(\"en_core_web_sm\")\n",
    "\n",
    "doc = nlp(text)\n",
    "# converting in base word\n",
    "words = []\n",
    "for token in doc:\n",
    "    words.append(token.lemma_)\n",
    "    \n",
    "words"
   ]
  },
  {
   "cell_type": "code",
   "execution_count": 17,
   "id": "31aac3bf",
   "metadata": {},
   "outputs": [
    {
     "data": {
      "text/plain": [
       "'Latha be very multi talented girl . she be good at many skill like dancing , running , singing , play . she also like eat Pav Bhagi . she have a \\n habit of fishing and swim too . besides all this , she be a wonderful at cook too . \\n'"
      ]
     },
     "execution_count": 17,
     "metadata": {},
     "output_type": "execute_result"
    }
   ],
   "source": [
    "text = \" \".join(words)\n",
    "text"
   ]
  }
 ],
 "metadata": {
  "kernelspec": {
   "display_name": "Python 3 (ipykernel)",
   "language": "python",
   "name": "python3"
  },
  "language_info": {
   "codemirror_mode": {
    "name": "ipython",
    "version": 3
   },
   "file_extension": ".py",
   "mimetype": "text/x-python",
   "name": "python",
   "nbconvert_exporter": "python",
   "pygments_lexer": "ipython3",
   "version": "3.9.18"
  }
 },
 "nbformat": 4,
 "nbformat_minor": 5
}
