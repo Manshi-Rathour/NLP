{
 "cells": [
  {
   "cell_type": "code",
   "execution_count": 1,
   "id": "61b1f160",
   "metadata": {},
   "outputs": [],
   "source": [
    "import spacy\n",
    "nlp = spacy.load(\"en_core_web_sm\")"
   ]
  },
  {
   "cell_type": "code",
   "execution_count": 2,
   "id": "b2592a8f",
   "metadata": {},
   "outputs": [],
   "source": [
    "text = '''\n",
    "Thor: Love and Thunder is a 2022 American superhero film based on Marvel Comics featuring the character Thor, produced by Marvel Studios and \n",
    "distributed by Walt Disney Studios Motion Pictures. It is the sequel to Thor: Ragnarok (2017) and the 29th film in the Marvel Cinematic Universe (MCU).\n",
    "The film is directed by Taika Waititi, who co-wrote the script with Jennifer Kaytin Robinson, and stars Chris Hemsworth as Thor alongside Christian Bale, Tessa Thompson,\n",
    "Jaimie Alexander, Waititi, Russell Crowe, and Natalie Portman. In the film, Thor attempts to find inner peace, but must return to action and recruit Valkyrie (Thompson),\n",
    "Korg (Waititi), and Jane Foster (Portman)—who is now the Mighty Thor—to stop Gorr the God Butcher (Bale) from eliminating all gods.\n",
    "'''\n",
    "\n",
    "doc = nlp(text)"
   ]
  },
  {
   "cell_type": "code",
   "execution_count": 12,
   "id": "42e1f073",
   "metadata": {},
   "outputs": [
    {
     "name": "stdout",
     "output_type": "stream",
     "text": [
      "40\n"
     ]
    }
   ],
   "source": [
    "stop_count = 0\n",
    "for token in doc:\n",
    "    if token.is_stop:\n",
    "        stop_count = stop_count + 1\n",
    "print(stop_count)"
   ]
  },
  {
   "cell_type": "code",
   "execution_count": 14,
   "id": "fc4c13bb",
   "metadata": {},
   "outputs": [
    {
     "data": {
      "text/plain": [
       "160"
      ]
     },
     "execution_count": 14,
     "metadata": {},
     "output_type": "execute_result"
    }
   ],
   "source": [
    "len(doc)"
   ]
  },
  {
   "cell_type": "code",
   "execution_count": 16,
   "id": "6fc43943",
   "metadata": {},
   "outputs": [
    {
     "data": {
      "text/plain": [
       "25.0"
      ]
     },
     "execution_count": 16,
     "metadata": {},
     "output_type": "execute_result"
    }
   ],
   "source": [
    "prcent_of_total_stop_words = (40/160)*100\n",
    "prcent_of_total_stop_words"
   ]
  },
  {
   "cell_type": "code",
   "execution_count": 17,
   "id": "34a59311",
   "metadata": {},
   "outputs": [],
   "source": [
    "text = ''' The India men's national cricket team, also known as Team India or the Men in Blue, represents India in men's international cricket.\n",
    "It is governed by the Board of Control for Cricket in India (BCCI), and is a Full Member of the International Cricket Council (ICC) with Test,\n",
    "One Day International (ODI) and Twenty20 International (T20I) status. Cricket was introduced to India by British sailors in the 18th century, and the \n",
    "first cricket club was established in 1792. India's national cricket team played its first Test match on 25 June 1932 at Lord's, becoming the sixth team to be\n",
    "granted test cricket status.\n",
    "'''\n"
   ]
  },
  {
   "cell_type": "code",
   "execution_count": 20,
   "id": "ec8c3bec",
   "metadata": {},
   "outputs": [],
   "source": [
    "doc = nlp(text)"
   ]
  },
  {
   "cell_type": "code",
   "execution_count": 21,
   "id": "b33291f1",
   "metadata": {},
   "outputs": [],
   "source": [
    "no_stop_word = []\n",
    "\n",
    "for token in doc:\n",
    "    if not (token.is_stop or token.is_punct):\n",
    "        no_stop_word.append(token.text)"
   ]
  },
  {
   "cell_type": "code",
   "execution_count": 22,
   "id": "0859c98a",
   "metadata": {},
   "outputs": [],
   "source": [
    "frequency_token = {}\n",
    "\n",
    "for token in no_stop_word:\n",
    "    if token != '\\n' and token != ' ':\n",
    "        if token not in frequency_token:\n",
    "            frequency_token[token] = 1\n",
    "        else:\n",
    "            frequency_token[token] +=1"
   ]
  },
  {
   "cell_type": "code",
   "execution_count": 27,
   "id": "657e7ecd",
   "metadata": {},
   "outputs": [],
   "source": [
    "max_freq_word = max(frequency_token.keys(), key=(lambda key: frequency_token[key]))"
   ]
  },
  {
   "cell_type": "code",
   "execution_count": 28,
   "id": "c727f2ac",
   "metadata": {},
   "outputs": [
    {
     "name": "stdout",
     "output_type": "stream",
     "text": [
      "Maximum frequency word: India\n"
     ]
    }
   ],
   "source": [
    "print(f\"Maximum frequency word: {max_freq_word}\") "
   ]
  }
 ],
 "metadata": {
  "kernelspec": {
   "display_name": "Python 3 (ipykernel)",
   "language": "python",
   "name": "python3"
  },
  "language_info": {
   "codemirror_mode": {
    "name": "ipython",
    "version": 3
   },
   "file_extension": ".py",
   "mimetype": "text/x-python",
   "name": "python",
   "nbconvert_exporter": "python",
   "pygments_lexer": "ipython3",
   "version": "3.9.18"
  }
 },
 "nbformat": 4,
 "nbformat_minor": 5
}
